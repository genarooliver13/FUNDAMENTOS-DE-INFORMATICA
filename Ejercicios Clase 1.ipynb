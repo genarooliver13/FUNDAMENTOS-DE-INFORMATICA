{
  "cells": [
    {
      "cell_type": "markdown",
      "id": "210c011f",
      "metadata": {
        "id": "210c011f"
      },
      "source": [
        "# Clase 1 - Ejercicios - Introducción a Python"
      ]
    },
    {
      "cell_type": "markdown",
      "id": "780e7d25",
      "metadata": {
        "id": "780e7d25"
      },
      "source": [
        "## Ejercicio 1: Operaciones básicas y variables\n",
        "\n",
        "### Descripción\n",
        "\n",
        "Una tienda vende tres tipos de artículos:\n",
        "- Camisetas: $250 cada una\n",
        "- Pantalones: $450 cada una\n",
        "- Zapatillas: $800 cada una\n",
        "\n",
        "### Tareas\n",
        "\n",
        "Calcula el total de una compra que incluye:\n",
        "- 2 camisetas\n",
        "- 1 pantalón\n",
        "- 1 par de zapatillas\n",
        "\n",
        "**Imprimí:**\n",
        "- El costo de cada artículo por separado\n",
        "- El total de la compra\n"
      ]
    },
    {
      "cell_type": "code",
      "execution_count": 4,
      "id": "3b5bc9d6",
      "metadata": {
        "vscode": {
          "languageId": "plaintext"
        },
        "colab": {
          "base_uri": "https://localhost:8080/"
        },
        "id": "3b5bc9d6",
        "outputId": "da725b0d-4059-4b95-be04-af2638e4ae4c"
      },
      "outputs": [
        {
          "output_type": "stream",
          "name": "stdout",
          "text": [
            "1750\n"
          ]
        }
      ],
      "source": [
        "# Solución\n",
        "Camisetas=250\n",
        "Pantalon=450\n",
        "Zaptillas = 800\n",
        "Total = (Camisetas*2)+Pantalon+Zaptillas\n",
        "print (Total)"
      ]
    },
    {
      "cell_type": "markdown",
      "id": "2dde2f74",
      "metadata": {
        "id": "2dde2f74"
      },
      "source": [
        "## Ejercicio 2: Comparaciones y booleanos\n",
        "\n",
        "### Descripción\n",
        "\n",
        "Tres estudiantes tienen las siguientes notas:\n",
        "- Juan: 7.5\n",
        "- María: 9.2\n",
        "- Carlos: 6.8\n",
        "\n",
        "Para aprobar el curso se necesita una nota de 7.0 o superior.\n",
        "\n",
        "### Tareas\n",
        "\n",
        "Determina quién aprobó usando comparaciones.\n",
        "\n",
        "**Imprimí:**\n",
        "- El nombre de cada estudiante junto con \"Aprobó\" o \"No aprobó\"\n",
        "\n"
      ]
    },
    {
      "cell_type": "code",
      "execution_count": 27,
      "id": "f5234201",
      "metadata": {
        "vscode": {
          "languageId": "plaintext"
        },
        "colab": {
          "base_uri": "https://localhost:8080/"
        },
        "id": "f5234201",
        "outputId": "23e01abc-afc4-45f2-8501-82aa30130ae4"
      },
      "outputs": [
        {
          "output_type": "stream",
          "name": "stdout",
          "text": [
            "Juan aprobó\n",
            "Maria aprobó\n",
            "Carlos no aprobó\n"
          ]
        }
      ],
      "source": [
        "juan=7.5\n",
        "maria=9.2\n",
        "carlos=6.8\n",
        "aprobado=7\n",
        "if juan >= aprobado:\n",
        "  print (\"Juan aprobó\")\n",
        "else:\n",
        "  print (\"Juan no aprobó\")\n",
        "if maria >= aprobado:\n",
        "  print (\"Maria aprobó\")\n",
        "else:\n",
        "  print (\"Maria no aprobó\")\n",
        "if carlos >= aprobado:\n",
        "  print (\"Carlos aprobó\")\n",
        "else:\n",
        "  print (\"Carlos no aprobó\")"
      ]
    },
    {
      "cell_type": "markdown",
      "id": "a84accc4",
      "metadata": {
        "id": "a84accc4"
      },
      "source": [
        "## Ejercicio 3: Operaciones con cadenas de caracteres\n",
        "\n",
        "### Descripción\n",
        "\n",
        "Tu nombre completo es: `\"Juan Alberto López Pérez\"`\n",
        "\n",
        "### Tareas\n",
        "\n",
        "Realiza las siguientes operaciones:\n",
        "\n",
        "1. Imprimí el nombre en **minúsculas**\n",
        "2. Imprimí el nombre en **mayúsculas**\n",
        "3. **Contá** cuántas letras tiene tu nombre (sin contar espacios)\n",
        "4. **Extraé** solo el primer nombre usando slicing\n",
        "5. **Verificá** si la palabra \"Alberto\" está en tu nombre\n",
        "\n"
      ]
    },
    {
      "cell_type": "code",
      "execution_count": 45,
      "id": "2d62ce62",
      "metadata": {
        "vscode": {
          "languageId": "plaintext"
        },
        "colab": {
          "base_uri": "https://localhost:8080/"
        },
        "id": "2d62ce62",
        "outputId": "eeafa84a-65c8-416e-abcb-143e3660a13f"
      },
      "outputs": [
        {
          "output_type": "stream",
          "name": "stdout",
          "text": [
            "Nombre en minisculas: juan alberto lopez perez\n",
            "Nombre en MAYUSCULA: JUAN ALBERTO LOPEZ PEREZ\n",
            "El nombre tiene 21 letras\n",
            "Alberto esta en el nombre\n"
          ]
        }
      ],
      "source": [
        "#1\n",
        "nombre= \"Juan Alberto Lopez Perez\"\n",
        "print (\"Nombre en minisculas:\", nombre.lower())\n",
        "#2\n",
        "print (\"Nombre en MAYUSCULA:\", nombre.upper())\n",
        "#3\n",
        "nombre_sin_espacio = len(nombre.replace(\" \", \"\"))\n",
        "print (\"El nombre tiene\", nombre_sin_espacio, \"letras\")\n",
        "#4\n",
        "if \"Alberto\" in nombre:\n",
        "  print (\"Alberto esta en el nombre\")\n",
        "else:\n",
        "  print (\"Alberto no esta en el nombre\")"
      ]
    },
    {
      "cell_type": "markdown",
      "id": "a287ed42",
      "metadata": {
        "id": "a287ed42"
      },
      "source": [
        "## Ejercicio 4: Listas y búsqueda\n",
        "\n",
        "### Descripción\n",
        "\n",
        "Tienes la siguiente lista de frutas:\n",
        "```python\n",
        "['manzana', 'plátano', 'naranja', 'uva', 'sandía']\n",
        "```\n",
        "\n",
        "### Tareas\n",
        "\n",
        "Realiza las siguientes operaciones:\n",
        "\n",
        "1. **Imprimí** la lista original\n",
        "2. **Agregá** 'fresa' al final\n",
        "3. **Insertá** 'piña' en la posición 2\n",
        "4. **Encontra** la posición de 'naranja'\n",
        "5. **Verificá** si 'melón' está en la lista\n",
        "6. **Imprimí** la lista ordenada alfabéticamente\n"
      ]
    },
    {
      "cell_type": "code",
      "execution_count": 82,
      "id": "4422eb57",
      "metadata": {
        "vscode": {
          "languageId": "plaintext"
        },
        "colab": {
          "base_uri": "https://localhost:8080/"
        },
        "id": "4422eb57",
        "outputId": "c7cef1b5-6738-4386-ca90-c59a165a47b5"
      },
      "outputs": [
        {
          "output_type": "stream",
          "name": "stdout",
          "text": [
            "['manzana', 'platano', 'naranja', 'uva', 'sandia']\n",
            "['manzana', 'platano', 'naranja', 'uva', 'sandia', 'fresa']\n",
            "['manzana', 'piña', 'platano', 'naranja', 'uva', 'sandia', 'fresa']\n",
            "la posicion de la narnaja es 3\n",
            "el melon no está en la lista\n",
            "['fresa', 'manzana', 'naranja', 'piña', 'platano', 'sandia', 'uva']\n"
          ]
        }
      ],
      "source": [
        "#1\n",
        "lista = ['manzana', 'platano', 'naranja', 'uva', 'sandia']\n",
        "print (lista)\n",
        "#2\n",
        "lista.append(\"fresa\")\n",
        "print (lista)\n",
        "#3\n",
        "lista.insert(1, \"piña\")\n",
        "print(lista)\n",
        "#4\n",
        "naranja=lista.index(\"naranja\")\n",
        "print(\"la posicion de la narnaja es\", naranja)\n",
        "#5\n",
        "if \"melon\" in lista:\n",
        "  print(\"el melon esta en en la lista\")\n",
        "else:\n",
        "  print(\"el melon no está en la lista\")\n",
        "#6\n",
        "print(sorted(lista))"
      ]
    },
    {
      "cell_type": "markdown",
      "id": "96fb7cb9",
      "metadata": {
        "id": "96fb7cb9"
      },
      "source": [
        "## Ejercicio 5: Bucle while simple\n",
        "\n",
        "### Descripción\n",
        "\n",
        "Escribe un programa que cuente desde 1 hasta 10 usando un bucle `while`.\n",
        "\n",
        "### Tareas\n",
        "\n",
        "Para cada número, imprimí:\n",
        "- El número\n",
        "- Su cuadrado\n",
        "- Su cubo\n",
        "\n",
        "### Resultado esperado\n",
        "\n",
        "```\n",
        "1 - Cuadrado: 1 - Cubo: 1\n",
        "2 - Cuadrado: 4 - Cubo: 8\n",
        "3 - Cuadrado: 9 - Cubo: 27\n",
        "4 - Cuadrado: 16 - Cubo: 64\n",
        "5 - Cuadrado: 25 - Cubo: 125\n",
        "...\n",
        "10 - Cuadrado: 100 - Cubo: 1000\n",
        "```\n"
      ]
    },
    {
      "cell_type": "code",
      "source": [
        "# Inicializamos el contador\n",
        "numero = 1\n",
        "# Bucle while que cuenta desde 1 hasta 10\n",
        "while numero <= 10:\n",
        "  cuadrado=numero**2\n",
        "  cubo=numero**3\n",
        "  print(f\"{numero} - Cuadrado: {cuadrado} - Cubo: {cubo}\")\n",
        "  numero += 1"
      ],
      "metadata": {
        "colab": {
          "base_uri": "https://localhost:8080/"
        },
        "id": "6aKxlYSImL_R",
        "outputId": "4286f7f1-a614-4010-e970-1d2f7a3dadb1"
      },
      "id": "6aKxlYSImL_R",
      "execution_count": 96,
      "outputs": [
        {
          "output_type": "stream",
          "name": "stdout",
          "text": [
            "1 - Cuadrado: 1 - Cubo: 1\n",
            "2 - Cuadrado: 4 - Cubo: 8\n",
            "3 - Cuadrado: 9 - Cubo: 27\n",
            "4 - Cuadrado: 16 - Cubo: 64\n",
            "5 - Cuadrado: 25 - Cubo: 125\n",
            "6 - Cuadrado: 36 - Cubo: 216\n",
            "7 - Cuadrado: 49 - Cubo: 343\n",
            "8 - Cuadrado: 64 - Cubo: 512\n",
            "9 - Cuadrado: 81 - Cubo: 729\n",
            "10 - Cuadrado: 100 - Cubo: 1000\n"
          ]
        }
      ]
    },
    {
      "cell_type": "markdown",
      "id": "de25bd0b",
      "metadata": {
        "id": "de25bd0b"
      },
      "source": [
        "## Notas importantes\n",
        "\n",
        "- Recorda que en Python los índices comienzan en 0\n",
        "- Los espacios en blanco (indentación) son importantes en los bucles\n",
        "- Podes usar la función `len()` para obtener la longitud de una cadena o lista\n",
        "- Usa `print()` para mostrar los resultados"
      ]
    }
  ],
  "metadata": {
    "language_info": {
      "name": "python"
    },
    "colab": {
      "provenance": []
    },
    "kernelspec": {
      "name": "python3",
      "display_name": "Python 3"
    }
  },
  "nbformat": 4,
  "nbformat_minor": 5
}